{
  "nbformat": 4,
  "nbformat_minor": 0,
  "metadata": {
    "colab": {
      "provenance": [],
      "include_colab_link": true
    },
    "kernelspec": {
      "name": "python3",
      "display_name": "Python 3"
    },
    "language_info": {
      "name": "python"
    }
  },
  "cells": [
    {
      "cell_type": "markdown",
      "metadata": {
        "id": "view-in-github",
        "colab_type": "text"
      },
      "source": [
        "<a href=\"https://colab.research.google.com/github/yazhinil/FMML20230017/blob/main/Module%2003%20Lab%2004.ipynb\" target=\"_parent\"><img src=\"https://colab.research.google.com/assets/colab-badge.svg\" alt=\"Open In Colab\"/></a>"
      ]
    },
    {
      "cell_type": "code",
      "metadata": {
        "id": "ITvv8HAmjquR"
      },
      "source": [
        "import pandas as pd\n",
        "import numpy as np\n",
        "import matplotlib.pyplot as plt\n",
        "import seaborn as sns\n",
        "import sklearn\n",
        "from sklearn.neighbors import KNeighborsClassifier\n",
        "from sklearn import datasets"
      ],
      "execution_count": 1,
      "outputs": []
    },
    {
      "cell_type": "code",
      "source": [
        "cancer = datasets.load_breast_cancer(as_frame=True)"
      ],
      "metadata": {
        "id": "167jISBahmSu"
      },
      "execution_count": 2,
      "outputs": []
    },
    {
      "cell_type": "code",
      "source": [
        "cancer.target_names"
      ],
      "metadata": {
        "colab": {
          "base_uri": "https://localhost:8080/"
        },
        "id": "IoKfdTQrKGnM",
        "outputId": "b6ad4de4-baaa-4266-d010-20408e48a966"
      },
      "execution_count": 3,
      "outputs": [
        {
          "output_type": "execute_result",
          "data": {
            "text/plain": [
              "array(['malignant', 'benign'], dtype='<U9')"
            ]
          },
          "metadata": {},
          "execution_count": 3
        }
      ]
    },
    {
      "cell_type": "code",
      "metadata": {
        "id": "6P69_W-cnTF4"
      },
      "source": [
        "X = cancer.data\n",
        "y = cancer.target"
      ],
      "execution_count": 4,
      "outputs": []
    },
    {
      "cell_type": "code",
      "metadata": {
        "id": "v4SlDqmync4p"
      },
      "source": [
        "from sklearn.model_selection import train_test_split\n",
        "X_train, X_test, y_train, y_test = train_test_split(X, y, test_size = 0.33, random_state = 17)"
      ],
      "execution_count": 5,
      "outputs": []
    },
    {
      "cell_type": "code",
      "metadata": {
        "id": "owajk896p9yc"
      },
      "source": [
        "neighbors = []\n",
        "scores_list = []\n",
        "\n",
        "for k in range(1, 25):\n",
        "    neighbors.append(k)\n",
        "    knn = KNeighborsClassifier(n_neighbors = k)\n",
        "    knn.fit(X_train,y_train)\n",
        "    scores = knn.score(X_test,y_test)\n",
        "    scores_list.append(scores)"
      ],
      "execution_count": 36,
      "outputs": []
    },
    {
      "cell_type": "code",
      "metadata": {
        "id": "UvD57XSyqSVT"
      },
      "source": [
        "Accuracy = [x*100 for x in scores_list]\n"
      ],
      "execution_count": 37,
      "outputs": []
    },
    {
      "cell_type": "code",
      "source": [
        "# determining the best k\n",
        "max_acc = max(Accuracy)\n",
        "optimal_ks = [neighbors[i] for i, j in enumerate(Accuracy) if j == max_acc]\n",
        "print(max_acc)\n",
        "print(optimal_ks)"
      ],
      "metadata": {
        "colab": {
          "base_uri": "https://localhost:8080/"
        },
        "id": "L_PArXY3phVM",
        "outputId": "ea7cd866-fb76-4bb7-c31f-6060e31fa0aa"
      },
      "execution_count": 38,
      "outputs": [
        {
          "output_type": "stream",
          "name": "stdout",
          "text": [
            "93.61702127659575\n",
            "[10, 12, 13, 14, 22, 24]\n"
          ]
        }
      ]
    },
    {
      "cell_type": "code",
      "source": [
        "## AUC-ROC\n",
        "from sklearn.metrics import roc_curve\n",
        "from sklearn.metrics import auc\n",
        "import matplotlib.pyplot as plt\n",
        "\n",
        "def plot_roc(y_test,predicted):\n",
        "  y_scores = predicted\n",
        "  fpr, tpr, threshold = roc_curve(y_test, y_scores)\n",
        "  roc_auc = auc(fpr, tpr)\n",
        "  plt.plot(fpr, tpr, 'b', label = 'AUC = %0.2f' % roc_auc)\n",
        "  plt.legend(loc = 'lower right')\n",
        "  plt.plot([0, 1], [0, 1],'r--')\n",
        "  plt.xlim([0, 1])\n",
        "  plt.ylim([0, 1])\n",
        "  plt.ylabel('True Positive Rate')\n",
        "  plt.xlabel('False Positive Rate')\n",
        "  plt.title('Receiver Operating Characteristic')\n",
        "  plt.show()"
      ],
      "metadata": {
        "id": "SAp-lfCCiced"
      },
      "execution_count": 39,
      "outputs": []
    },
    {
      "cell_type": "code",
      "source": [
        "knn = KNeighborsClassifier(n_neighbors = 10)\n",
        "knn.fit(X_train,y_train)\n",
        "predictions = knn.predict(X_test)"
      ],
      "metadata": {
        "id": "jcNAfOc6ihrv"
      },
      "execution_count": 40,
      "outputs": []
    },
    {
      "cell_type": "code",
      "source": [
        "## Changing the random_state value here so that data is split differently\n",
        "X_train, X_test, y_train, y_test = train_test_split(X, y, test_size = 0.33, random_state = 1089)"
      ],
      "metadata": {
        "id": "v-i6n6y3swm4"
      },
      "execution_count": 41,
      "outputs": []
    },
    {
      "cell_type": "code",
      "source": [
        "neighbors = []\n",
        "scores_list = []\n",
        "\n",
        "for k in range(1, 25):\n",
        "    neighbors.append(k)\n",
        "    knn = KNeighborsClassifier(n_neighbors = k)\n",
        "    knn.fit(X_train,y_train)\n",
        "    scores = knn.score(X_test,y_test)\n",
        "    scores_list.append(scores)"
      ],
      "metadata": {
        "id": "yUQsEfAjsFaS"
      },
      "execution_count": 42,
      "outputs": []
    },
    {
      "cell_type": "code",
      "source": [
        "Accuracy = [x*100 for x in scores_list]\n"
      ],
      "metadata": {
        "id": "wy9EH2Yms5e_"
      },
      "execution_count": 43,
      "outputs": []
    },
    {
      "cell_type": "code",
      "source": [
        "# determining the best k\n",
        "max_acc = max(Accuracy)\n",
        "optimal_ks = [neighbors[i] for i, j in enumerate(Accuracy) if j == max_acc]\n",
        "print(max_acc)\n",
        "print(optimal_ks)"
      ],
      "metadata": {
        "colab": {
          "base_uri": "https://localhost:8080/"
        },
        "id": "sEEUOUOfs7_E",
        "outputId": "4eb340be-7c4f-47a7-ef1d-86c26893eccf"
      },
      "execution_count": 44,
      "outputs": [
        {
          "output_type": "stream",
          "name": "stdout",
          "text": [
            "94.14893617021278\n",
            "[5, 7, 8]\n"
          ]
        }
      ]
    },
    {
      "cell_type": "code",
      "source": [
        "X_train, X_test, y_train, y_test = train_test_split(X, y, test_size = 0.33, random_state = 17)"
      ],
      "metadata": {
        "id": "9xjLYb1ZvaqM"
      },
      "execution_count": 45,
      "outputs": []
    },
    {
      "cell_type": "code",
      "source": [
        "from sklearn.model_selection import KFold\n",
        "from statistics import mean\n",
        "kf = KFold(n_splits=10)\n",
        "cv_scores = []\n",
        "neighbors = []\n",
        "for k in range(1,25):\n",
        "  knn = KNeighborsClassifier(n_neighbors = k)\n",
        "  neighbors.append(k)\n",
        "  acclist = []\n",
        "  for train_index, test_index in kf.split(X_train, y_train):\n",
        "    x_train_fold, x_test_fold = X_train.iloc[train_index], X_train.iloc[test_index]\n",
        "    y_train_fold, y_test_fold = y_train.iloc[train_index], y_train.iloc[test_index]\n",
        "    knn.fit(x_train_fold, y_train_fold)\n",
        "    acclist.append(knn.score(x_test_fold, y_test_fold))\n",
        "  cv_scores.append(mean(acclist))"
      ],
      "metadata": {
        "id": "RB0Te1S8uiT6"
      },
      "execution_count": 46,
      "outputs": []
    },
    {
      "cell_type": "code",
      "metadata": {
        "id": "UjpQTP7QpokH"
      },
      "source": [
        "Accuracy = [x*100 for x in cv_scores]"
      ],
      "execution_count": 47,
      "outputs": []
    },
    {
      "cell_type": "code",
      "source": [
        "# determining the best k\n",
        "max_acc = max(Accuracy)\n",
        "optimal_ks = [neighbors[i] for i, j in enumerate(Accuracy) if j == max_acc]\n",
        "print(optimal_ks)"
      ],
      "metadata": {
        "colab": {
          "base_uri": "https://localhost:8080/"
        },
        "id": "U-XBDufnxbuT",
        "outputId": "40288f99-5378-4f36-b0e5-18d517faf066"
      },
      "execution_count": 48,
      "outputs": [
        {
          "output_type": "stream",
          "name": "stdout",
          "text": [
            "[10, 12]\n"
          ]
        }
      ]
    },
    {
      "cell_type": "code",
      "source": [
        "# TASK-1:\n",
        "from statistics import mean\n",
        "from sklearn.model_selection import StratifiedKFold\n",
        "#Stratified Kfold\n",
        "skf = StratifiedKFold(n_splits=10, shuffle=True, random_state=1)\n",
        "skf_scores = []\n",
        "neighbors = []\n",
        "for k in range(1,25):\n",
        "  knn = KNeighborsClassifier(n_neighbors = k)\n",
        "  neighbors.append(k)\n",
        "  acclist = []\n",
        "  for train_index, test_index in skf.split(X_train, y_train):\n",
        "    x_train_fold, x_test_fold = X_train.iloc[train_index], X_train.iloc[test_index]\n",
        "    y_train_fold, y_test_fold = y_train.iloc[train_index], y_train.iloc[test_index]\n",
        "    knn.fit(x_train_fold, y_train_fold)\n",
        "    acclist.append(knn.score(x_test_fold, y_test_fold))\n",
        "  skf_scores.append(mean(acclist))\n",
        "\n"
      ],
      "metadata": {
        "id": "ulg8ESJ77bIz"
      },
      "execution_count": 49,
      "outputs": []
    },
    {
      "cell_type": "code",
      "source": [
        "Accuracy = [x*100 for x in skf_scores]\n",
        "plt.figure(figsize = (10, 6))\n",
        "plt.plot(neighbors, Accuracy)\n",
        "plt.xlabel('Number of neighbors')\n",
        "plt.ylabel('Mean Cross-validation accuracy in %')\n",
        "plt.show()"
      ],
      "metadata": {
        "colab": {
          "base_uri": "https://localhost:8080/",
          "height": 542
        },
        "id": "Sb0E3S4zT44g",
        "outputId": "963c9acb-1a9b-4eb4-cd40-18056ea20a9f"
      },
      "execution_count": 50,
      "outputs": [
        {
          "output_type": "display_data",
          "data": {
            "text/plain": [
              "<Figure size 1000x600 with 1 Axes>"
            ],
            "image/png": "[encoded data removed]"
          },
          "metadata": {}
        }
      ]
    },
    {
      "cell_type": "code",
      "source": [
        "# determining the best k\n",
        "max_acc = max(Accuracy)\n",
        "optimal_ks = [neighbors[i] for i, j in enumerate(Accuracy) if j == max_acc]\n",
        "print(optimal_ks)"
      ],
      "metadata": {
        "colab": {
          "base_uri": "https://localhost:8080/"
        },
        "id": "QV4H4Q17UM3k",
        "outputId": "254dabb5-f1ac-4574-9a2e-4f62e66851ba"
      },
      "execution_count": 51,
      "outputs": [
        {
          "output_type": "stream",
          "name": "stdout",
          "text": [
            "[5, 6]\n"
          ]
        }
      ]
    },
    {
      "cell_type": "code",
      "source": [
        "X = cancer.data\n",
        "y = cancer.target"
      ],
      "metadata": {
        "id": "GNe4-JTI0tYh"
      },
      "execution_count": 52,
      "outputs": []
    },
    {
      "cell_type": "code",
      "source": [
        "from sklearn.model_selection import train_test_split\n",
        "from sklearn.preprocessing import StandardScaler\n",
        "scaler = StandardScaler()\n",
        "X_scaled = scaler.fit_transform(X)"
      ],
      "metadata": {
        "id": "dwS4wRtFzUK_"
      },
      "execution_count": 53,
      "outputs": []
    },
    {
      "cell_type": "code",
      "source": [
        "X_train, X_test, y_train, y_test = train_test_split(X_scaled, y, test_size = 0.33, random_state = 17)"
      ],
      "metadata": {
        "id": "rVg1mxfc0HgB"
      },
      "execution_count": 54,
      "outputs": []
    },
    {
      "cell_type": "code",
      "source": [
        "neighbors = []\n",
        "scores_list = []\n",
        "\n",
        "for k in range(1, 25):\n",
        "    neighbors.append(k)\n",
        "    knn = KNeighborsClassifier(n_neighbors = k)\n",
        "    knn.fit(X_train,y_train)\n",
        "    scores = knn.score(X_test,y_test)\n",
        "    scores_list.append(scores)"
      ],
      "metadata": {
        "id": "yq6yq6FjzmcR"
      },
      "execution_count": 55,
      "outputs": []
    },
    {
      "cell_type": "code",
      "source": [
        "Accuracy = [x*100 for x in scores_list]\n",
        "# plot Accuracy versus k\n",
        "plt.figure(figsize = (10, 6))\n",
        "plt.plot(neighbors, Accuracy)\n",
        "plt.xlim([0, 25])\n",
        "plt.xlabel('Number of neighbors')\n",
        "plt.ylabel('Accuracy in %')\n",
        "plt.show()"
      ],
      "metadata": {
        "colab": {
          "base_uri": "https://localhost:8080/",
          "height": 542
        },
        "id": "ID5KNvw5zyOb",
        "outputId": "e6734738-b6cc-45ce-dd97-a5b005ef4ec6"
      },
      "execution_count": 56,
      "outputs": [
        {
          "output_type": "display_data",
          "data": {
            "text/plain": [
              "<Figure size 1000x600 with 1 Axes>"
            ],
            "image/png": "[encoded data removed]"
          },
          "metadata": {}
        }
      ]
    },
    {
      "cell_type": "code",
      "source": [
        "# determining the best k\n",
        "max_acc = max(Accuracy)\n",
        "optimal_ks = [neighbors[i] for i, j in enumerate(Accuracy) if j == max_acc]\n",
        "print(max_acc)\n",
        "print(optimal_ks)"
      ],
      "metadata": {
        "colab": {
          "base_uri": "https://localhost:8080/"
        },
        "id": "8tm1WNW1z0I7",
        "outputId": "a967f4de-5e6d-4590-9051-8872f482b297"
      },
      "execution_count": 57,
      "outputs": [
        {
          "output_type": "stream",
          "name": "stdout",
          "text": [
            "96.80851063829788\n",
            "[2]\n"
          ]
        }
      ]
    },
    {
      "cell_type": "markdown",
      "source": [
        "\n",
        "1.\n",
        "Splitting the dataset into three sets- train, validation, and test set, reduces the computational cost as compared to cross-validation. It is also simpler. It is more applicable on large datasets.\n",
        "\n",
        "It's cons are- The performance is highly dependant on the size of the split. One split only shows the performance of that split, and not other examples.\n",
        "\n",
        "2.\n",
        "The original dataset is divided into K folds, and the model is trained and evaluated K times.\n",
        "In K-Fold cross-validation, each data point is used exactly once for testing and K-1 times for training. This means that the entire dataset is not exhaustively used for both training and testing in a single iteration.\n",
        "Hence, K-Fold cross-validation is a non-exhaustive method."
      ],
      "metadata": {
        "id": "W0HPRG2m_XAN"
      }
    }
  ]
}