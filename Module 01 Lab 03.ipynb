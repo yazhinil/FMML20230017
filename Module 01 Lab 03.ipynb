{
  "cells": [
    {
      "cell_type": "markdown",
      "metadata": {
        "id": "view-in-github",
        "colab_type": "text"
      },
      "source": [
        "<a href=\"https://colab.research.google.com/github/yazhinil/FMML20230017/blob/main/Module%2001%20Lab%2003.ipynb\" target=\"_parent\"><img src=\"https://colab.research.google.com/assets/colab-badge.svg\" alt=\"Open In Colab\"/></a>"
      ]
    },
    {
      "cell_type": "code",
      "execution_count": null,
      "metadata": {
        "colab": {
          "base_uri": "https://localhost:8080/"
        },
        "id": "xZU8_elooqP0",
        "outputId": "290db1f0-7d99-4934-8044-3fc155a7d999"
      },
      "outputs": [
        {
          "name": "stdout",
          "output_type": "stream",
          "text": [
            "Downloading data from https://storage.googleapis.com/tensorflow/tf-keras-datasets/mnist.npz\n",
            "11490434/11490434 [==============================] - 0s 0us/step\n"
          ]
        }
      ],
      "source": [
        "import numpy as np\n",
        "import matplotlib.pyplot as plt\n",
        "from keras.datasets import mnist\n",
        "rng = np.random.default_rng(seed=42)\n",
        "from sklearn.utils.extmath import cartesian\n",
        "from skimage.transform import rotate, AffineTransform, warp\n",
        "import math\n",
        "\n",
        "\n",
        "(train_X, train_y), (test_X, test_y) = mnist.load_data()\n",
        "train_X = train_X/255\n",
        "test_X = test_X/255\n",
        "\n",
        "train_X = train_X[::1200,:,:].copy()\n",
        "train_y = train_y[::1200].copy()"
      ]
    },
    {
      "cell_type": "code",
      "execution_count": null,
      "metadata": {
        "id": "Zk2W5_3BRLMS"
      },
      "outputs": [],
      "source": [
        "def NN1(traindata, trainlabel, query):\n",
        "  diff  = traindata - query\n",
        "  sq = diff*diff\n",
        "  dist = sq.sum(1)\n",
        "  label = trainlabel[np.argmin(dist)]\n",
        "  return label\n",
        "\n",
        "def NN(traindata, trainlabel, testdata):\n",
        "  traindata = traindata.reshape(-1, 28*28)\n",
        "  testdata = testdata.reshape(-1,28*28)\n",
        "  predlabel = np.array([NN1(traindata, trainlabel, i) for i in testdata])\n",
        "  return predlabel\n",
        "\n",
        "def Accuracy(gtlabel, predlabel):\n",
        "  assert len(gtlabel)==len(predlabel), \"Length of the groundtruth labels and predicted labels should be the same\"\n",
        "  correct = (gtlabel==predlabel).sum()\n",
        "  return correct/len(gtlabel)"
      ]
    },
    {
      "cell_type": "markdown",
      "metadata": {
        "id": "uFisDOdFEXXE"
      },
      "source": [
        "Q1."
      ]
    },
    {
      "cell_type": "code",
      "execution_count": null,
      "metadata": {
        "colab": {
          "base_uri": "https://localhost:8080/"
        },
        "id": "4tQvnoasRNEV",
        "outputId": "9dc7d4f3-e5ad-483e-83a0-2a9467319531"
      },
      "outputs": [
        {
          "name": "stdout",
          "output_type": "stream",
          "text": [
            "Baseline accuracy without augmentation is  0.6472\n"
          ]
        }
      ],
      "source": [
        "testpred = NN(train_X, train_y, test_X)\n",
        "print('Baseline accuracy without augmentation is ', Accuracy(test_y, testpred))"
      ]
    },
    {
      "cell_type": "code",
      "execution_count": null,
      "metadata": {
        "id": "vyM7pUV7Reze"
      },
      "outputs": [],
      "source": [
        "def augRotate(sample, angleconstraint):\n",
        "  if angleconstraint==0:\n",
        "    return sample\n",
        "  if len(sample.shape)==2:\n",
        "    sample = np.expand_dims(sample, 0)\n",
        "  angle = rng.random(len(sample))\n",
        "  angle = (angle-0.5)*angleconstraint\n",
        "  nsample = sample.copy()\n",
        "  for ii in range(len(sample)):\n",
        "    nsample[ii] = rotate(sample[ii], angle[ii])\n",
        "  return np.squeeze(nsample)"
      ]
    },
    {
      "cell_type": "code",
      "execution_count": null,
      "metadata": {
        "colab": {
          "base_uri": "https://localhost:8080/"
        },
        "id": "aiaFRLREmGp6",
        "outputId": "6d833283-7ed6-4603-8aff-8e66acdfb8c4"
      },
      "outputs": [
        {
          "name": "stderr",
          "output_type": "stream",
          "text": [
            "<ipython-input-9-2f14d3721156>:2: DeprecationWarning: `np.float` is a deprecated alias for the builtin `float`. To silence this warning, use `float` by itself. Doing this will not modify any behavior and is safe. If you specifically wanted the numpy scalar type, use `np.float64` here.\n",
            "Deprecated in NumPy 1.20; for more details and guidance: https://numpy.org/devdocs/release/1.20.0-notes.html#deprecations\n",
            "  accuracies = np.zeros(len(angleconstraints), dtype=np.float) # we will save the values here\n"
          ]
        },
        {
          "name": "stdout",
          "output_type": "stream",
          "text": [
            "Accuracy after rotation augmentation constrained by  0  is  0.6472\n",
            "Accuracy after rotation augmentation constrained by  10  is  0.6727\n",
            "Accuracy after rotation augmentation constrained by  20  is  0.673\n",
            "Accuracy after rotation augmentation constrained by  30  is  0.6737\n",
            "Accuracy after rotation augmentation constrained by  40  is  0.6731\n",
            "Accuracy after rotation augmentation constrained by  50  is  0.6701\n",
            "Accuracy after rotation augmentation constrained by  60  is  0.6675\n",
            "Accuracy after rotation augmentation constrained by  70  is  0.661\n",
            "Accuracy after rotation augmentation constrained by  80  is  0.6462\n",
            "Accuracy after rotation augmentation constrained by  90  is  0.6469\n"
          ]
        }
      ],
      "source": [
        "angleconstraints = [0,10,20,30,40,50,60,70,80,90]\n",
        "accuracies = np.zeros(len(angleconstraints), dtype=np.float)\n",
        "\n",
        "for ii in range(len(angleconstraints)):\n",
        "  augdata = train_X\n",
        "  auglabel = train_y\n",
        "  for jj in range(naugmentations):\n",
        "    augdata = np.concatenate((augdata, augRotate(train_X, angleconstraints[ii])))\n",
        "    auglabel = np.concatenate((auglabel, train_y))\n",
        "\n",
        "  testpred = NN(augdata, auglabel, test_X)\n",
        "  accuracies[ii] = Accuracy(test_y, testpred)\n",
        "  print('Accuracy after rotation augmentation constrained by ',angleconstraints[ii], ' is ', accuracies[ii], flush=True)"
      ]
    },
    {
      "cell_type": "code",
      "execution_count": null,
      "metadata": {
        "colab": {
          "base_uri": "https://localhost:8080/",
          "height": 485
        },
        "id": "LqthJa_pmMHz",
        "outputId": "d4f6a55c-0631-43c4-c6e0-593e13ebaa11"
      },
      "outputs": [
        {
          "data": {
            "text/plain": [
              "<matplotlib.collections.PathCollection at 0x78b4f30f3b20>"
            ]
          },
          "execution_count": 14,
          "metadata": {},
          "output_type": "execute_result"
        },
        {
          "data": {
            "image/png": "[encoded data removed]",
            "text/plain": [
              "<Figure size 640x480 with 1 Axes>"
            ]
          },
          "metadata": {},
          "output_type": "display_data"
        }
      ],
      "source": [
        "fig = plt.figure()\n",
        "ax = fig.add_axes([0.1, 0.1, 0.8, 0.8])\n",
        "ax.plot(angleconstraints, accuracies)\n",
        "ax.set_xlabel('angle')\n",
        "ax.set_ylabel('accuracy')\n",
        "maxind = np.argmax(accuracies)\n",
        "plt.scatter(angleconstraints[maxind], accuracies[maxind], c='red')"
      ]
    },
    {
      "cell_type": "code",
      "execution_count": null,
      "metadata": {
        "id": "pMiw46NLwssK"
      },
      "outputs": [],
      "source": [
        "def shear(sample, amount):\n",
        "  tform = AffineTransform(shear = amount)\n",
        "  img = warp(sample, tform)\n",
        "  col = img.sum(0).nonzero()[0]\n",
        "  row = img.sum(1).nonzero()[0]\n",
        "  if len(col)>0 and len(row)>0:\n",
        "    xshift = int(sample.shape[0]/2 - (row[0]+row[-1])/2)\n",
        "    yshift = int(sample.shape[1]/2 - (col[0]+col[-1])/2)\n",
        "    img = np.roll(img, (xshift, yshift),(0,1))\n",
        "  return img"
      ]
    },
    {
      "cell_type": "code",
      "execution_count": null,
      "metadata": {
        "id": "-qLDJyGytwP5"
      },
      "outputs": [],
      "source": [
        "def augShear(sample, shearconstraint):\n",
        "  if shearconstraint==0:\n",
        "    return sample\n",
        "  if len(sample.shape)==2:\n",
        "    sample = np.expand_dims(sample, 0)\n",
        "  amt = rng.random(len(sample))\n",
        "  amt = (amt-0.5)*shearconstraint\n",
        "  nsample = sample.copy()\n",
        "  for ii in range(len(sample)):\n",
        "    nsample[ii] = shear(sample[ii], amt[ii])\n",
        "  return np.squeeze(nsample)"
      ]
    },
    {
      "cell_type": "code",
      "execution_count": null,
      "metadata": {
        "colab": {
          "base_uri": "https://localhost:8080/"
        },
        "id": "l_wrqPkrzBb_",
        "outputId": "a0568ef9-fe5d-4054-b912-0558a2a0f9e7"
      },
      "outputs": [
        {
          "name": "stderr",
          "output_type": "stream",
          "text": [
            "<ipython-input-17-8a89fef4983d>:2: DeprecationWarning: `np.float` is a deprecated alias for the builtin `float`. To silence this warning, use `float` by itself. Doing this will not modify any behavior and is safe. If you specifically wanted the numpy scalar type, use `np.float64` here.\n",
            "Deprecated in NumPy 1.20; for more details and guidance: https://numpy.org/devdocs/release/1.20.0-notes.html#deprecations\n",
            "  accuracies = np.zeros(len(shearconstraints), dtype=np.float) # we will save the values here\n"
          ]
        },
        {
          "name": "stdout",
          "output_type": "stream",
          "text": [
            "Accuracy after shear augmentation constrained by  0  is  0.6472\n",
            "Accuracy after shear augmentation constrained by  0.2  is  0.6147\n",
            "Accuracy after shear augmentation constrained by  0.4  is  0.632\n",
            "Accuracy after shear augmentation constrained by  0.6  is  0.6351\n",
            "Accuracy after shear augmentation constrained by  0.8  is  0.6636\n",
            "Accuracy after shear augmentation constrained by  1.0  is  0.6652\n",
            "Accuracy after shear augmentation constrained by  1.2  is  0.6495\n",
            "Accuracy after shear augmentation constrained by  1.4  is  0.6181\n",
            "Accuracy after shear augmentation constrained by  1.6  is  0.6323\n",
            "Accuracy after shear augmentation constrained by  1.8  is  0.6432\n",
            "Accuracy after shear augmentation constrained by  2.0  is  0.6277\n"
          ]
        }
      ],
      "source": [
        "shearconstraints = [0, 0.2,0.4,0.6,0.8,1.0,1.2,1.4,1.6,1.8,2.0]\n",
        "accuracies = np.zeros(len(shearconstraints), dtype=np.float)\n",
        "\n",
        "for ii in range(len(shearconstraints)):\n",
        "  augdata = train_X\n",
        "  auglabel = train_y\n",
        "  for jj in range(naugmentations):\n",
        "    augdata = np.concatenate((augdata, augShear(train_X, shearconstraints[ii])))\n",
        "    auglabel = np.concatenate((auglabel, train_y))\n",
        "\n",
        "  testpred = NN(augdata, auglabel, test_X)\n",
        "  accuracies[ii] = Accuracy(test_y, testpred)\n",
        "  print('Accuracy after shear augmentation constrained by ',shearconstraints[ii], ' is ', accuracies[ii], flush=True)"
      ]
    },
    {
      "cell_type": "code",
      "execution_count": null,
      "metadata": {
        "colab": {
          "base_uri": "https://localhost:8080/",
          "height": 481
        },
        "id": "EKaH-YR-zVnA",
        "outputId": "d4d92b62-adbe-45f3-ede4-035d335d4672"
      },
      "outputs": [
        {
          "data": {
            "text/plain": [
              "<matplotlib.collections.PathCollection at 0x78b4f2fa0f10>"
            ]
          },
          "execution_count": 18,
          "metadata": {},
          "output_type": "execute_result"
        },
        {
          "data": {
            "image/png": "[encoded data removed]",
            "text/plain": [
              "<Figure size 640x480 with 1 Axes>"
            ]
          },
          "metadata": {},
          "output_type": "display_data"
        }
      ],
      "source": [
        "fig = plt.figure()\n",
        "ax = fig.add_axes([0.1, 0.1, 0.8, 0.8])\n",
        "\n",
        "ax.plot(shearconstraints, accuracies)\n",
        "ax.set_xlabel('angle')\n",
        "ax.set_ylabel('accuracy')\n",
        "\n",
        "maxind = np.argmax(accuracies)\n",
        "plt.scatter(shearconstraints[maxind], accuracies[maxind], c='red')"
      ]
    },
    {
      "cell_type": "markdown",
      "metadata": {
        "id": "ZNX8YxP2E2nw"
      },
      "source": [
        "Q1. The best value for accuracy is 0.6737 after rotation augmentation.\n",
        "The best value for accuracy is 0.6652 after shear augmentation.\n",
        "The accuracy without using augmentations is 0.6472.\n",
        "This shows that the accuracy has increased as compared to not using augmentations."
      ]
    },
    {
      "cell_type": "code",
      "execution_count": null,
      "metadata": {
        "colab": {
          "base_uri": "https://localhost:8080/"
        },
        "id": "XoLVfXxAF7G0",
        "outputId": "9f5af84e-4a4f-4ec5-b2e8-2d1a917dc75e"
      },
      "outputs": [
        {
          "name": "stdout",
          "output_type": "stream",
          "text": [
            "Accuracy after rotation augmentation is  0.677\n"
          ]
        }
      ],
      "source": [
        "#Q2. For sample 50.\n",
        "\n",
        "angleconstraint = 50\n",
        "naugmentations = 7\n",
        "\n",
        "\n",
        "augdata = train_X\n",
        "auglabel = train_y\n",
        "for ii in range(naugmentations):\n",
        "  augdata = np.concatenate((augdata, augRotate(train_X, angleconstraint)))\n",
        "  auglabel = np.concatenate((auglabel, train_y))\n",
        "\n",
        "testpred = NN(augdata, auglabel, test_X)\n",
        "print('Accuracy after rotation augmentation is ', Accuracy(test_y, testpred))"
      ]
    },
    {
      "cell_type": "markdown",
      "metadata": {
        "id": "ld0LPivpGOHa"
      },
      "source": [
        "Q2. By increasing the number of augumentations to 7, the accuracy of sample value 50 has also increased from 0.6701 to 0.677."
      ]
    },
    {
      "cell_type": "code",
      "execution_count": null,
      "metadata": {
        "id": "sh8S_Pxa0XCv"
      },
      "outputs": [],
      "source": [
        "def augRotateShear(sample, angleconstraint, shearconstraint):\n",
        "  if len(sample.shape)==2:\n",
        "    sample = np.expand_dims(sample, 0)\n",
        "  amt = rng.random(len(sample))\n",
        "  amt = (amt-0.5)*shearconstraint\n",
        "  angle = rng.random(len(sample))\n",
        "  angle = (angle-0.5)*angleconstraint\n",
        "  nsample = sample.copy()\n",
        "  for ii in range(len(sample)):\n",
        "    nsample[ii] = rotate(shear(sample[ii], amt[ii]), angle[ii])\n",
        "  return np.squeeze(nsample)"
      ]
    },
    {
      "cell_type": "markdown",
      "metadata": {
        "id": "7KOCniCZJK4d"
      },
      "source": [
        "Q4. Combining rotational and shear augmentations."
      ]
    },
    {
      "cell_type": "code",
      "execution_count": null,
      "metadata": {
        "colab": {
          "background_save": true,
          "base_uri": "https://localhost:8080/"
        },
        "id": "TJC45WRg0pOP",
        "outputId": "0c3dc14a-9a4a-4fab-dd6c-0f00c1556df9"
      },
      "outputs": [
        {
          "name": "stderr",
          "output_type": "stream",
          "text": [
            "<ipython-input-23-09de780976d0>:5: DeprecationWarning: `np.float` is a deprecated alias for the builtin `float`. To silence this warning, use `float` by itself. Doing this will not modify any behavior and is safe. If you specifically wanted the numpy scalar type, use `np.float64` here.\n",
            "Deprecated in NumPy 1.20; for more details and guidance: https://numpy.org/devdocs/release/1.20.0-notes.html#deprecations\n",
            "  accuracies = np.zeros(len(hyp), dtype=np.float) # we will save the values here\n"
          ]
        },
        {
          "name": "stdout",
          "output_type": "stream",
          "text": [
            "Accuracy after augmentation shear: 0.0 angle: 0.0  is  0.6332\n",
            "Accuracy after augmentation shear: 0.0 angle: 10.0  is  0.6032\n",
            "Accuracy after augmentation shear: 0.0 angle: 20.0  is  0.5966\n",
            "Accuracy after augmentation shear: 0.0 angle: 30.0  is  0.5878\n",
            "Accuracy after augmentation shear: 0.0 angle: 40.0  is  0.6112\n",
            "Accuracy after augmentation shear: 0.0 angle: 50.0  is  0.601\n",
            "Accuracy after augmentation shear: 0.0 angle: 60.0  is  0.6123\n",
            "Accuracy after augmentation shear: 0.2 angle: 0.0  is  0.6335\n",
            "Accuracy after augmentation shear: 0.2 angle: 10.0  is  0.605\n",
            "Accuracy after augmentation shear: 0.2 angle: 20.0  is  0.5804\n",
            "Accuracy after augmentation shear: 0.2 angle: 30.0  is  0.6003\n",
            "Accuracy after augmentation shear: 0.2 angle: 40.0  is  0.6165\n",
            "Accuracy after augmentation shear: 0.2 angle: 50.0  is  0.5919\n",
            "Accuracy after augmentation shear: 0.2 angle: 60.0  is  0.6046\n",
            "Accuracy after augmentation shear: 0.4 angle: 0.0  is  0.6346\n",
            "Accuracy after augmentation shear: 0.4 angle: 10.0  is  0.6171\n",
            "Accuracy after augmentation shear: 0.4 angle: 20.0  is  0.6127\n",
            "Accuracy after augmentation shear: 0.4 angle: 30.0  is  0.6058\n",
            "Accuracy after augmentation shear: 0.4 angle: 40.0  is  0.5802\n",
            "Accuracy after augmentation shear: 0.4 angle: 50.0  is  0.6137\n",
            "Accuracy after augmentation shear: 0.4 angle: 60.0  is  0.5996\n",
            "Accuracy after augmentation shear: 0.6 angle: 0.0  is  0.6338\n",
            "Accuracy after augmentation shear: 0.6 angle: 10.0  is  0.598\n",
            "Accuracy after augmentation shear: 0.6 angle: 20.0  is  0.5843\n",
            "Accuracy after augmentation shear: 0.6 angle: 30.0  is  0.592\n",
            "Accuracy after augmentation shear: 0.6 angle: 40.0  is  0.5656\n",
            "Accuracy after augmentation shear: 0.6 angle: 50.0  is  0.6023\n",
            "Accuracy after augmentation shear: 0.6 angle: 60.0  is  0.6051\n",
            "Accuracy after augmentation shear: 0.8 angle: 0.0  is  0.6344\n",
            "Accuracy after augmentation shear: 0.8 angle: 10.0  is  0.5977\n",
            "Accuracy after augmentation shear: 0.8 angle: 20.0  is  0.61\n",
            "Accuracy after augmentation shear: 0.8 angle: 30.0  is  0.5913\n",
            "Accuracy after augmentation shear: 0.8 angle: 40.0  is  0.5896\n",
            "Accuracy after augmentation shear: 0.8 angle: 50.0  is  0.6055\n",
            "Accuracy after augmentation shear: 0.8 angle: 60.0  is  0.6009\n",
            "Accuracy after augmentation shear: 1.0 angle: 0.0  is  0.6355\n",
            "Accuracy after augmentation shear: 1.0 angle: 10.0  is  0.5863\n",
            "Accuracy after augmentation shear: 1.0 angle: 20.0  is  0.6264\n",
            "Accuracy after augmentation shear: 1.0 angle: 30.0  is  0.6226\n",
            "Accuracy after augmentation shear: 1.0 angle: 40.0  is  0.6106\n",
            "Accuracy after augmentation shear: 1.0 angle: 50.0  is  0.6202\n",
            "Accuracy after augmentation shear: 1.0 angle: 60.0  is  0.6134\n",
            "Accuracy after augmentation shear: 1.2 angle: 0.0  is  0.6327\n",
            "Accuracy after augmentation shear: 1.2 angle: 10.0  is  0.5868\n",
            "Accuracy after augmentation shear: 1.2 angle: 20.0  is  0.6082\n",
            "Accuracy after augmentation shear: 1.2 angle: 30.0  is  0.5871\n",
            "Accuracy after augmentation shear: 1.2 angle: 40.0  is  0.6135\n",
            "Accuracy after augmentation shear: 1.2 angle: 50.0  is  0.6075\n",
            "Accuracy after augmentation shear: 1.2 angle: 60.0  is  0.5886\n",
            "Accuracy after augmentation shear: 1.4 angle: 0.0  is  0.6339\n",
            "Accuracy after augmentation shear: 1.4 angle: 10.0  is  0.6045\n",
            "Accuracy after augmentation shear: 1.4 angle: 20.0  is  0.6056\n",
            "Accuracy after augmentation shear: 1.4 angle: 30.0  is  0.6036\n",
            "Accuracy after augmentation shear: 1.4 angle: 40.0  is  0.5803\n",
            "Accuracy after augmentation shear: 1.4 angle: 50.0  is  0.5887\n",
            "Accuracy after augmentation shear: 1.4 angle: 60.0  is  0.6239\n",
            "Accuracy after augmentation shear: 1.6 angle: 0.0  is  0.6348\n",
            "Accuracy after augmentation shear: 1.6 angle: 10.0  is  0.5915\n",
            "Accuracy after augmentation shear: 1.6 angle: 20.0  is  0.6075\n",
            "Accuracy after augmentation shear: 1.6 angle: 30.0  is  0.5926\n",
            "Accuracy after augmentation shear: 1.6 angle: 40.0  is  0.6107\n",
            "Accuracy after augmentation shear: 1.6 angle: 50.0  is  0.5999\n",
            "Accuracy after augmentation shear: 1.6 angle: 60.0  is  0.5986\n"
          ]
        }
      ],
      "source": [
        "shearconstraints = [0, 0.2,0.4,0.6,0.8,1.0,1.2,1.4,1.6]\n",
        "angleconstraints = [0,10,20,30,40,50,60]\n",
        "hyp = cartesian((shearconstraints, angleconstraints))\n",
        "\n",
        "accuracies = np.zeros(len(hyp), dtype=np.float)\n",
        "\n",
        "for ii in range(len(hyp)):\n",
        "  augdata = train_X\n",
        "  auglabel = train_y\n",
        "  for jj in range(naugmentations):\n",
        "    augdata = np.concatenate((augdata, augRotateShear(train_X, hyp[ii][0], hyp[ii][1])))\n",
        "    auglabel = np.concatenate((auglabel, train_y))\n",
        "\n",
        "\n",
        "  testpred = NN(augdata, auglabel, test_X)\n",
        "  accuracies[ii] = Accuracy(test_y, testpred)\n",
        "  print('Accuracy after augmentation shear:',hyp[ii][0], 'angle:',hyp[ii][1], ' is ', accuracies[ii], flush=True)"
      ]
    },
    {
      "cell_type": "code",
      "execution_count": null,
      "metadata": {
        "colab": {
          "base_uri": "https://localhost:8080/",
          "height": 481
        },
        "id": "jD2i7msI_cLd",
        "outputId": "b95e1743-673d-4088-d1eb-43d5edc000ec"
      },
      "outputs": [
        {
          "output_type": "execute_result",
          "data": {
            "text/plain": [
              "0.6355"
            ]
          },
          "metadata": {},
          "execution_count": 28
        },
        {
          "output_type": "display_data",
          "data": {
            "text/plain": [
              "<Figure size 640x480 with 2 Axes>"
            ],
            "image/png": "[encoded data removed]"
          },
          "metadata": {}
        }
      ],
      "source": [
        "fig = plt.figure()\n",
        "ax = fig.add_axes([0.1, 0.1, 0.8, 0.8])\n",
        "im = ax.imshow(accuracies.reshape((len(shearconstraints), len(angleconstraints))), cmap='inferno')\n",
        "ax.set_xlabel('angle')\n",
        "ax.set_ylabel('shear')\n",
        "ax.set_xticks(np.arange(len(angleconstraints)));\n",
        "ax.set_xticklabels(angleconstraints);\n",
        "ax.set_yticks(np.arange(len(shearconstraints)));\n",
        "ax.set_yticklabels(shearconstraints);\n",
        "plt.colorbar(im)\n",
        "maxind = np.argmax(accuracies)\n",
        "accuracies[maxind]"
      ]
    },
    {
      "cell_type": "markdown",
      "source": [
        "The highest accuracy is 0.6355."
      ],
      "metadata": {
        "id": "ICLnl3BvP_B2"
      }
    }
  ],
  "metadata": {
    "colab": {
      "provenance": [],
      "include_colab_link": true
    },
    "kernelspec": {
      "display_name": "Python 3",
      "name": "python3"
    },
    "language_info": {
      "name": "python"
    }
  },
  "nbformat": 4,
  "nbformat_minor": 0
}