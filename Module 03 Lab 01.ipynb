{
  "nbformat": 4,
  "nbformat_minor": 0,
  "metadata": {
    "colab": {
      "provenance": [],
      "collapsed_sections": [
        "5aBtFZKL46mz",
        "dPaqFnNLXnl8",
        "BaWnfZ6ZfZ_X",
        "nndOIHk6fekM",
        "MjQ47HbqqIhC"
      ],
      "include_colab_link": true
    },
    "kernelspec": {
      "name": "python3",
      "display_name": "Python 3"
    },
    "language_info": {
      "name": "python"
    }
  },
  "cells": [
    {
      "cell_type": "markdown",
      "metadata": {
        "id": "view-in-github",
        "colab_type": "text"
      },
      "source": [
        "<a href=\"https://colab.research.google.com/github/yazhinil/FMML20230017/blob/main/Module%2003%20Lab%2001.ipynb\" target=\"_parent\"><img src=\"https://colab.research.google.com/assets/colab-badge.svg\" alt=\"Open In Colab\"/></a>"
      ]
    },
    {
      "cell_type": "code",
      "metadata": {
        "id": "J4l3wwMnxLFd"
      },
      "source": [
        "import numpy as np\n",
        "import pandas as pd\n",
        "import math\n",
        "from scipy.spatial import distance\n",
        "import matplotlib.pyplot as plt"
      ],
      "execution_count": 2,
      "outputs": []
    },
    {
      "cell_type": "code",
      "source": [
        "x_1 = np.array((1, 2))\n",
        "x_2 = np.array((4, 6))"
      ],
      "metadata": {
        "id": "44CNX8LvKYGR"
      },
      "execution_count": 6,
      "outputs": []
    },
    {
      "cell_type": "code",
      "metadata": {
        "colab": {
          "base_uri": "https://localhost:8080/"
        },
        "id": "oRT3hc0PzhZt",
        "outputId": "50624b01-722d-439f-dea0-89ed6cf8dcb5"
      },
      "source": [
        "sumv = 0\n",
        "for i in range(len(x_1)):\n",
        "  sumv += ((x_1[i]-x_2[i])**2)\n",
        "dist = math.sqrt(sumv)\n",
        "print(dist)"
      ],
      "execution_count": 7,
      "outputs": [
        {
          "output_type": "stream",
          "name": "stdout",
          "text": [
            "5.0\n"
          ]
        }
      ]
    },
    {
      "cell_type": "code",
      "metadata": {
        "id": "IMgLfH5XIivU",
        "colab": {
          "base_uri": "https://localhost:8080/"
        },
        "outputId": "c4d2cae0-b530-4b07-e885-a048475cb5bd"
      },
      "source": [
        "euclidean_dist = np.sqrt(np.sum((x_1-x_2)**2))\n",
        "print(euclidean_dist)"
      ],
      "execution_count": 5,
      "outputs": [
        {
          "output_type": "stream",
          "name": "stdout",
          "text": [
            "5.0\n"
          ]
        }
      ]
    },
    {
      "cell_type": "code",
      "metadata": {
        "id": "aAgS7NcF2J_9",
        "colab": {
          "base_uri": "https://localhost:8080/"
        },
        "outputId": "8c425e5a-0655-449f-caf2-343592291ad5"
      },
      "source": [
        "euclidean_dist = distance.euclidean(x_1, x_2)\n",
        "print(euclidean_dist)"
      ],
      "execution_count": 8,
      "outputs": [
        {
          "output_type": "stream",
          "name": "stdout",
          "text": [
            "5.0\n"
          ]
        }
      ]
    },
    {
      "cell_type": "code",
      "metadata": {
        "id": "Agx5Cmm34ub6",
        "colab": {
          "base_uri": "https://localhost:8080/"
        },
        "outputId": "907985f0-5a59-4601-f7b3-a99c267d6ed2"
      },
      "source": [
        "manhattan_dist = distance.cityblock(x_1, x_2)\n",
        "print(manhattan_dist)"
      ],
      "execution_count": 13,
      "outputs": [
        {
          "output_type": "stream",
          "name": "stdout",
          "text": [
            "7\n"
          ]
        }
      ]
    },
    {
      "cell_type": "code",
      "metadata": {
        "id": "gzT3M83oI8O6",
        "colab": {
          "base_uri": "https://localhost:8080/"
        },
        "outputId": "b9fb0522-94d3-4ec8-b476-dd194ba2aff8"
      },
      "source": [
        "manhattan_dist = np.sum(np.abs((x_1 - x_2)))\n",
        "print(manhattan_dist)"
      ],
      "execution_count": 11,
      "outputs": [
        {
          "output_type": "stream",
          "name": "stdout",
          "text": [
            "7\n"
          ]
        }
      ]
    },
    {
      "cell_type": "code",
      "metadata": {
        "id": "tYJW9RRp5coB",
        "colab": {
          "base_uri": "https://localhost:8080/"
        },
        "outputId": "908a2a00-650f-43f7-a837-7bb3727a1020"
      },
      "source": [
        "minkowski_distance = distance.minkowski(x_1, x_2, p=3)\n",
        "print(\"Minkowski distance when p=3 is \",minkowski_distance)"
      ],
      "execution_count": 14,
      "outputs": [
        {
          "output_type": "stream",
          "name": "stdout",
          "text": [
            "Minkowski distance when p=3 is  4.497941445275415\n"
          ]
        }
      ]
    },
    {
      "cell_type": "code",
      "metadata": {
        "id": "S4Y7gKoW6ZOa",
        "colab": {
          "base_uri": "https://localhost:8080/"
        },
        "outputId": "12399fce-3e0f-480e-dc93-921d585c99a3"
      },
      "source": [
        "minkowski_dist_p1 = distance.minkowski(x_1,x_2,p=1)\n",
        "print(\"Minkowski distance when p=1 is \",minkowski_dist_p1)\n",
        "minkowski_dist_p2 = distance.minkowski(x_1,x_2,p=2)\n",
        "print(\"Minkowski distance when p=2 is \",minkowski_dist_p2)"
      ],
      "execution_count": 15,
      "outputs": [
        {
          "output_type": "stream",
          "name": "stdout",
          "text": [
            "Minkowski distance when p=1 is  7.0\n",
            "Minkowski distance when p=2 is  5.0\n"
          ]
        }
      ]
    },
    {
      "cell_type": "code",
      "metadata": {
        "id": "o7QqV_YTYHWv",
        "colab": {
          "base_uri": "https://localhost:8080/"
        },
        "outputId": "99e490fa-c147-46a0-c2bb-1003fb8d8c91"
      },
      "source": [
        "str_1 = 'euclidean'\n",
        "str_2 = 'manhattan'\n",
        "hamming_dist = distance.hamming(list(str_1), list(str_2)) * len(str_1)\n",
        "print(hamming_dist)\n"
      ],
      "execution_count": 16,
      "outputs": [
        {
          "output_type": "stream",
          "name": "stdout",
          "text": [
            "7.0\n"
          ]
        }
      ]
    },
    {
      "cell_type": "code",
      "metadata": {
        "id": "0x8iyHWUhGsW",
        "colab": {
          "base_uri": "https://localhost:8080/"
        },
        "outputId": "765eb597-31d6-4255-fe65-0e568e8ff3e3"
      },
      "source": [
        "chebyshev_distance = distance.chebyshev(x_1,x_2)\n",
        "print(chebyshev_distance)"
      ],
      "execution_count": 29,
      "outputs": [
        {
          "output_type": "stream",
          "name": "stdout",
          "text": [
            "4\n"
          ]
        }
      ]
    },
    {
      "cell_type": "code",
      "metadata": {
        "id": "fyXurJobpSEI"
      },
      "source": [
        "import random\n",
        "import scipy.stats as ss\n",
        "from sklearn.neighbors import KNeighborsClassifier\n",
        "\n",
        "def generate_synth_data(n = 50):\n",
        "    points = np.concatenate((ss.norm(0, 1).rvs((n, 2)), ss.norm(1, 1).rvs((n, 2))), axis = 0)\n",
        "    outcomes = np.concatenate((np.repeat(0, n), np.repeat(1, n)))\n",
        "    return (points, outcomes)\n",
        "\n",
        "n = 50\n",
        "pts,tgts = generate_synth_data(n)\n",
        "test_pts,test_tgts = generate_synth_data(n)"
      ],
      "execution_count": 27,
      "outputs": []
    },
    {
      "cell_type": "code",
      "metadata": {
        "colab": {
          "base_uri": "https://localhost:8080/"
        },
        "id": "j7_rEYusq3gx",
        "outputId": "8056a94f-f41d-4bd5-e144-fddfa8ce7e36"
      },
      "source": [
        "metrics = [euclidean_dist , manhattan_dist , minkowski_distance , hamming_dist , chebyshev_distance]\n",
        "for dist_metric in metrics:\n",
        "  knn = KNeighborsClassifier(n_neighbors = 3)\n",
        "  knn.fit(pts, tgts)\n",
        "  our_predictions = knn.predict(test_pts)\n",
        "  print(\"Prediction Accuracy: \")\n",
        "  print(100 * np.mean(our_predictions == test_tgts))\n"
      ],
      "execution_count": 28,
      "outputs": [
        {
          "output_type": "stream",
          "name": "stdout",
          "text": [
            "Prediction Accuracy: \n",
            "62.0\n",
            "Prediction Accuracy: \n",
            "62.0\n",
            "Prediction Accuracy: \n",
            "62.0\n",
            "Prediction Accuracy: \n",
            "62.0\n",
            "Prediction Accuracy: \n",
            "62.0\n"
          ]
        }
      ]
    },
    {
      "cell_type": "markdown",
      "metadata": {
        "id": "Mrl4bMze0UpK"
      },
      "source": [
        "\n",
        "1.How are similarity and distance different from each other?  \n",
        "\n",
        "Answer- Distance is the measure of how far aoart two points are from each other. Similarity is the meassure of how much overlap there is between the data.\n",
        "\n",
        "2.Are there any conditions for a particular distance to be considered a \"distance metric\"?\n",
        "\n",
        "Answer- The distance between the two points should not be be negative.\n",
        "The distance between the two points must be the same in either order.\n",
        "The distance between two points, through a third point, should always be shorter than or equal to the sum of the distances directly between those points.\n"
      ]
    }
  ]
}