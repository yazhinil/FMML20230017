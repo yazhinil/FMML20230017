{
  "nbformat": 4,
  "nbformat_minor": 0,
  "metadata": {
    "colab": {
      "provenance": [],
      "authorship_tag": "ABX9TyNEZuKdQ7Sq9f2Q7bCpC5H/",
      "include_colab_link": true
    },
    "kernelspec": {
      "name": "python3",
      "display_name": "Python 3"
    },
    "language_info": {
      "name": "python"
    }
  },
  "cells": [
    {
      "cell_type": "markdown",
      "metadata": {
        "id": "view-in-github",
        "colab_type": "text"
      },
      "source": [
        "<a href=\"https://colab.research.google.com/github/yazhinil/FMML20230017/blob/main/LAB%201.ipynb\" target=\"_parent\"><img src=\"https://colab.research.google.com/assets/colab-badge.svg\" alt=\"Open In Colab\"/></a>"
      ]
    },
    {
      "cell_type": "code",
      "execution_count": 2,
      "metadata": {
        "colab": {
          "base_uri": "https://localhost:8080/"
        },
        "id": "e7VqevLIozIP",
        "outputId": "873cb837-b53c-4784-e97d-5e22fb370656"
      },
      "outputs": [
        {
          "output_type": "stream",
          "name": "stdout",
          "text": [
            "LONDON\n",
            "london\n",
            "London\n",
            "['a', 'b', 'c', 'd', 'e', 'f']\n",
            "['f', 'e', 'd', 'c', 'b', 'a']\n",
            "3\n",
            "5\n",
            "{'b', 'a', 'd', 'c'}\n",
            "{'a', 'd', 'c'}\n",
            "dict_keys([1, 2, 3, 4])\n",
            "b\n",
            "{}\n"
          ]
        }
      ],
      "source": [
        "#Question 0\n",
        "\n",
        "#string\n",
        "\n",
        "city= \"loNdON\"\n",
        "print(city.upper())\n",
        "print(city.lower())\n",
        "print(city.title())\n",
        "\n",
        "#list\n",
        "list= ['a', 'b', 'c','d']\n",
        "list.extend(['e', 'f'])\n",
        "print (list)\n",
        "\n",
        "list.reverse()\n",
        "print (list)\n",
        "\n",
        "list.pop()\n",
        "\n",
        "#tuple\n",
        "tuple= (1,2,3,4,5)\n",
        "a= tuple.index(4)\n",
        "print(a)\n",
        "length= len(tuple)\n",
        "print(length)\n",
        "max(tuple)\n",
        "\n",
        "#set\n",
        "\n",
        "set1 = set([\"a\", \"b\", \"c\"])\n",
        "set1.add(\"d\")\n",
        "print(set1)\n",
        "\n",
        "set1.remove(\"b\")\n",
        "print(set1)\n",
        "\n",
        "set1.pop()\n",
        "\n",
        "#dictionary\n",
        "\n",
        "dict= {1: 'a', 2:'b', 3:'c', 4:'d'}\n",
        "print(dict.keys())\n",
        "\n",
        "print(dict.get(2))\n",
        "\n",
        "dict.clear()\n",
        "print(dict)\n",
        "\n"
      ]
    },
    {
      "cell_type": "code",
      "source": [
        "#Question 1\n",
        "\n",
        "def reverse(s):\n",
        "    str = \"\"\n",
        "    for i in s:\n",
        "        str = i + str\n",
        "    return str\n",
        "\n",
        "\n",
        "def one(a:str , b:str):\n",
        "  b=(str)(reverse(a)+b)\n",
        "\n",
        "  print(b)\n",
        "\n",
        "one(\"ball\", \"bat\")\n"
      ],
      "metadata": {
        "colab": {
          "base_uri": "https://localhost:8080/"
        },
        "id": "dafTTbxpp3n6",
        "outputId": "4b0be3ac-6e0e-4b5b-ca54-cbf25e841574"
      },
      "execution_count": 1,
      "outputs": [
        {
          "output_type": "stream",
          "name": "stdout",
          "text": [
            "llabbat\n"
          ]
        }
      ]
    },
    {
      "cell_type": "code",
      "source": [
        "#Question 2\n",
        "\n",
        "\n",
        "work_hours = [('Abby',100, 'F'),('Billy',400, 'M'),('Cassie',800,'F'), ('Maggi',600,'F'),('Alex',500,'M'),('Raj',225,'M'),('Penny',920,'F'),('Ben',300,'M')]\n",
        "\n",
        "hour=[]\n",
        "for name,hours,gender in sorted(work_hours):\n",
        "  hour.append(hours)\n",
        "\n",
        "m= max(hour)\n",
        "ind= hour.index(m)\n",
        "most_hours= work_hours[ind]\n",
        "\n",
        "def person(name, amount):\n",
        "  print(f\"The female worker that worked the most hours is {name} and she should be paid {amount}\")\n",
        "\n",
        "person(most_hours[0], most_hours[1]*20)\n",
        "\n"
      ],
      "metadata": {
        "colab": {
          "base_uri": "https://localhost:8080/"
        },
        "id": "EJ3ie3mvqMHS",
        "outputId": "5f7fe735-20c1-42a5-ae46-2c10d72cd0e1"
      },
      "execution_count": 3,
      "outputs": [
        {
          "output_type": "stream",
          "name": "stdout",
          "text": [
            "The female worker that worked the most hours is Penny and she should be paid 18400\n"
          ]
        }
      ]
    },
    {
      "cell_type": "code",
      "source": [
        "#Question 3\n",
        "import numpy as np\n",
        "\n",
        "#a\n",
        "arr= np.array([[1,1,1,1,1],[2,2,2,2,2],[3,3,3,3,3],[4,4,4,4,4],[5,5,5,5,5]])\n",
        "print(np.vstack(arr))\n",
        "\n",
        "#b\n",
        "arr1= arr* [1,2,3,4,5]\n",
        "print(arr1)\n",
        "\n"
      ],
      "metadata": {
        "colab": {
          "base_uri": "https://localhost:8080/"
        },
        "id": "gNP1PNFAqWzX",
        "outputId": "6899a832-6fe1-4ab0-a140-d5c367f2c7d9"
      },
      "execution_count": 4,
      "outputs": [
        {
          "output_type": "stream",
          "name": "stdout",
          "text": [
            "[[1 1 1 1 1]\n",
            " [2 2 2 2 2]\n",
            " [3 3 3 3 3]\n",
            " [4 4 4 4 4]\n",
            " [5 5 5 5 5]]\n",
            "[[ 1  2  3  4  5]\n",
            " [ 2  4  6  8 10]\n",
            " [ 3  6  9 12 15]\n",
            " [ 4  8 12 16 20]\n",
            " [ 5 10 15 20 25]]\n"
          ]
        }
      ]
    }
  ]
}